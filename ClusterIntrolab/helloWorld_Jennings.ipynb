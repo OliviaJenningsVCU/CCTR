{
 "cells": [
  {
   "cell_type": "markdown",
   "id": "76d5c144-7076-43e2-888e-8ad40d62759e",
   "metadata": {},
   "source": [
    "# My First Notebook\n",
    "\n",
    "## subheading\n",
    "\n",
    "### subheading\n",
    "First Athena lab. \n",
    "\n",
    "* first\n",
    "    * second\n",
    "\n"
   ]
  },
  {
   "cell_type": "code",
   "execution_count": 1,
   "id": "55dd3fc4-6a45-4abd-97d3-b752b6418ede",
   "metadata": {
    "tags": []
   },
   "outputs": [
    {
     "name": "stdout",
     "output_type": "stream",
     "text": [
      "Hello World\n"
     ]
    }
   ],
   "source": [
    "print(\"Hello World\")"
   ]
  },
  {
   "cell_type": "code",
   "execution_count": null,
   "id": "e7dc2153-9721-4051-ab70-bea332e05d28",
   "metadata": {},
   "outputs": [],
   "source": []
  }
 ],
 "metadata": {
  "kernelspec": {
   "display_name": "Python 3 (ipykernel)",
   "language": "python",
   "name": "python3"
  },
  "language_info": {
   "codemirror_mode": {
    "name": "ipython",
    "version": 3
   },
   "file_extension": ".py",
   "mimetype": "text/x-python",
   "name": "python",
   "nbconvert_exporter": "python",
   "pygments_lexer": "ipython3",
   "version": "3.11.5"
  }
 },
 "nbformat": 4,
 "nbformat_minor": 5
}
